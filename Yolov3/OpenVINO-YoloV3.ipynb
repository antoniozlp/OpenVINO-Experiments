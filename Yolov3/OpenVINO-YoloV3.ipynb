{
 "cells": [
  {
   "cell_type": "markdown",
   "metadata": {},
   "source": [
    "# YoloV3 in Intel® Distributio of OpenVINO"
   ]
  },
  {
   "cell_type": "markdown",
   "metadata": {},
   "source": [
    "This tutorial explains how to convert YOLOv3 public models to the Intermediate Representation (IR) and perform real-time object detection using inbuilt OpenVINO inference engine sample.\n",
    "\n",
    "<b>Sofware Requirements:-</b><br>\n",
    "Windows 10, VS2015/17, cmake, git bash, Anaconda with Intel® Distribution of Python 3.6, jupyter notebook <br>\n",
    "Validated on Intel® Distribution of OpenVINO Toolkit version 2018.5.456"
   ]
  },
  {
   "cell_type": "code",
   "execution_count": null,
   "metadata": {},
   "outputs": [],
   "source": [
    "#Clone the repository\n",
    "!git clone https://github.com/mystic123/tensorflow-yolo-v3.git"
   ]
  },
  {
   "cell_type": "code",
   "execution_count": null,
   "metadata": {},
   "outputs": [],
   "source": [
    "#Navigate to the yolov3 scripts directory\n",
    "%cd tensorflow-yolo-v3"
   ]
  },
  {
   "cell_type": "code",
   "execution_count": null,
   "metadata": {},
   "outputs": [],
   "source": [
    "#Wait for a while to download weights and labels fiel. \n",
    "#check the downloaded weights file size 242.195 MB\n",
    "!python Yolov3_files_downloader.py"
   ]
  },
  {
   "cell_type": "code",
   "execution_count": null,
   "metadata": {},
   "outputs": [],
   "source": [
    "#Run a converter for YoloV3\n",
    "!python convert_weights_pb.py --class_names coco.names --data_format NHWC --weights_file yolov3.weights"
   ]
  },
  {
   "cell_type": "code",
   "execution_count": null,
   "metadata": {},
   "outputs": [],
   "source": [
    "#Convert YOLOv3 TensorFlow Model to the IR for CPU\n",
    "!python \"C:/Intel/computer_vision_sdk/deployment_tools/model_optimizer/mo_tf.py\" \\\n",
    "--input_model frozen_darknet_yolov3_model.pb \\\n",
    "--tensorflow_use_custom_operations_config yolo_v3.json \\\n",
    "--input_shape [1,416,416,3]"
   ]
  },
  {
   "cell_type": "code",
   "execution_count": null,
   "metadata": {},
   "outputs": [],
   "source": [
    "#Convert YOLOv3 TensorFlow Model to the IR for GPU & VPU\n",
    "!python \"C:/Intel/computer_vision_sdk/deployment_tools/model_optimizer/mo_tf.py\" \\\n",
    "--input_model frozen_darknet_yolov3_model.pb \\\n",
    "--tensorflow_use_custom_operations_config yolo_v3.json \\\n",
    "--input_shape [1,416,416,3] \\\n",
    "--data_type=FP16 \\\n",
    "--model_name frozen_darknet_yolov3_model_fp16"
   ]
  },
  {
   "cell_type": "markdown",
   "metadata": {},
   "source": [
    "Download Sample video from:- https://videos.pexels.com/videos/people-in-the-streets-853993 <br>\n",
    "Save it in current directory as \"inputVideo.mp4\""
   ]
  },
  {
   "cell_type": "code",
   "execution_count": null,
   "metadata": {},
   "outputs": [],
   "source": [
    "#Check the options present in Yolov3 Object detection sample from built inference engine samples (Documents/Intel/ in Windows 10)\n",
    "!\"%HOMEDRIVE%%HOMEPATH%\\Documents\\Intel\\OpenVINO\\inference_engine_samples_2017\\intel64\\Release\\object_detection_demo_yolov3_async\" -h"
   ]
  },
  {
   "cell_type": "markdown",
   "metadata": {},
   "source": [
    "### Yolov3 Inference using OpenVINO on Intel CPU"
   ]
  },
  {
   "cell_type": "code",
   "execution_count": null,
   "metadata": {},
   "outputs": [],
   "source": [
    "!\"%HOMEDRIVE%%HOMEPATH%\\Documents\\Intel\\OpenVINO\\inference_engine_samples_2017\\intel64\\Release\\object_detection_demo_yolov3_async\" \\\n",
    "-i inputVideo.mp4 \\\n",
    "-m frozen_darknet_yolov3_model.xml \\\n",
    "-d CPU"
   ]
  },
  {
   "cell_type": "markdown",
   "metadata": {},
   "source": [
    "### Yolov3 Inference using OpenVINO on Intel GPU"
   ]
  },
  {
   "cell_type": "code",
   "execution_count": null,
   "metadata": {},
   "outputs": [],
   "source": [
    "!\"%HOMEDRIVE%%HOMEPATH%\\Documents\\Intel\\OpenVINO\\inference_engine_samples_2017\\intel64\\Release\\object_detection_demo_yolov3_async\" \\\n",
    "-i inputVideo.mp4 \\\n",
    "-m frozen_darknet_yolov3_model_fp16.xml \\\n",
    "-d GPU"
   ]
  },
  {
   "cell_type": "markdown",
   "metadata": {},
   "source": [
    "### Yolov3 Inference using OpenVINO on Intel VPU"
   ]
  },
  {
   "cell_type": "markdown",
   "metadata": {},
   "source": [
    "For Intel® Movidius™ Neural Compute Stick and Intel® Neural Compute Stick 2, the OpenVINO™ toolkit provides the Movidius™ VSC driver. To install the driver:\n",
    "\n",
    "Go to the \\deployment_tools\\inference-engine\\external\\ directory, where is the directory in which the Intel Distribution of OpenVINO toolkit is installed.\n",
    "\n",
    "Right click on the Movidius_VSC_Device.inf file and choose Install from the pop up menu:\n",
    "\n",
    "<img src=\"myriad_driver.png\" width=50%> </br>\n",
    "\n",
    "You have installed the driver for your Intel® Movidius™ Neural Compute Stick or Intel® Neural Compute Stick 2."
   ]
  },
  {
   "cell_type": "code",
   "execution_count": null,
   "metadata": {},
   "outputs": [],
   "source": [
    "!\"%HOMEDRIVE%%HOMEPATH%\\Documents\\Intel\\OpenVINO\\inference_engine_samples_2017\\intel64\\Release\\object_detection_demo_yolov3_async\" \\\n",
    "-i inputVideo.mp4 \\\n",
    "-m frozen_darknet_yolov3_model_fp16.xml \\\n",
    "-d MYRIAD"
   ]
  },
  {
   "cell_type": "code",
   "execution_count": null,
   "metadata": {},
   "outputs": [],
   "source": []
  }
 ],
 "metadata": {
  "kernelspec": {
   "display_name": "Python 3",
   "language": "python",
   "name": "python3"
  },
  "language_info": {
   "codemirror_mode": {
    "name": "ipython",
    "version": 3
   },
   "file_extension": ".py",
   "mimetype": "text/x-python",
   "name": "python",
   "nbconvert_exporter": "python",
   "pygments_lexer": "ipython3",
   "version": "3.6.6"
  }
 },
 "nbformat": 4,
 "nbformat_minor": 2
}
